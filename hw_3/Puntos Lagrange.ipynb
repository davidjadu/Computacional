{
 "metadata": {
  "name": "",
  "signature": "sha256:e8cf1e4fe7212de99544f74332d2450dc687cdecc82c46dbdb0158abe436cc0b"
 },
 "nbformat": 3,
 "nbformat_minor": 0,
 "worksheets": [
  {
   "cells": [
    {
     "cell_type": "code",
     "collapsed": false,
     "input": [
      "%pylab inline"
     ],
     "language": "python",
     "metadata": {},
     "outputs": [
      {
       "output_type": "stream",
       "stream": "stdout",
       "text": [
        "Populating the interactive namespace from numpy and matplotlib\n"
       ]
      }
     ],
     "prompt_number": 1
    },
    {
     "cell_type": "code",
     "collapsed": false,
     "input": [
      "M2=1\n",
      "M1=332948.6\n",
      "c=M2/(M1+M2) #Centro de Masa"
     ],
     "language": "python",
     "metadata": {},
     "outputs": [
      {
       "output_type": "stream",
       "stream": "stdout",
       "text": [
        "3.00345758037e-06\n"
       ]
      }
     ],
     "prompt_number": 2
    },
    {
     "cell_type": "code",
     "collapsed": false,
     "input": [
      "def fun1(x,y):\n",
      "    return M1/(x**2+y**2)*((x*(c-x)-y**2)/(sqrt(x**2+y**2)))+M2/((x-1)**2+y**2)*(((x-1)*(c-x)-y**2)/(sqrt((1-x)**2+y**2)))+(M1+M2)*((x-c)**2+y**2)\n",
      "    \n",
      "def fun2(x,y):\n",
      "    return M1/(x**2+y**2)*((c*y)/(sqrt(x**2+y**2)))+M2/((1-x)**2+y**2)*((c*y-y)/(sqrt((1-x)**2+y**2)))\n",
      "    \n",
      "def derivate_x(f,x,y,h):\n",
      "    return 1/(2.0*h)*(f(x+h,y)-f(x-h,y))\n",
      "\n",
      "def derivate_y(f,x,y,h):\n",
      "    return 1/(2.0*h)*(f(x,y+h)-f(x,y-h))"
     ],
     "language": "python",
     "metadata": {},
     "outputs": [],
     "prompt_number": 6
    },
    {
     "cell_type": "code",
     "collapsed": false,
     "input": [
      "def newton(x0, y0,h):\n",
      "    x=x0\n",
      "    y=y0\n",
      "    while ((abs(fun1(x,y))>(1e-9) or abs(fun2(x,y))>(1e-9))):\n",
      "        dx, dy= np.linalg.solve(np.array([[derivate_x(fun1,x,y,h),derivate_y(fun1,x,y,h)],[derivate_x(fun2,x,y,h),derivate_y(fun2,x,y,h)]]), np.array([-fun1(x,y),-fun2(x,y)]))\n",
      "        x+=dx\n",
      "        y+=dy\n",
      "    return x,y"
     ],
     "language": "python",
     "metadata": {},
     "outputs": [],
     "prompt_number": 41
    },
    {
     "cell_type": "code",
     "collapsed": false,
     "input": [
      "h=1e-4"
     ],
     "language": "python",
     "metadata": {},
     "outputs": [],
     "prompt_number": 31
    },
    {
     "cell_type": "code",
     "collapsed": false,
     "input": [
      "newton(-1,0,h)"
     ],
     "language": "python",
     "metadata": {},
     "outputs": [
      {
       "metadata": {},
       "output_type": "pyout",
       "prompt_number": 43,
       "text": [
        "(-0.99999824798307735, 0.0)"
       ]
      }
     ],
     "prompt_number": 43
    },
    {
     "cell_type": "code",
     "collapsed": false,
     "input": [],
     "language": "python",
     "metadata": {},
     "outputs": []
    }
   ],
   "metadata": {}
  }
 ]
}