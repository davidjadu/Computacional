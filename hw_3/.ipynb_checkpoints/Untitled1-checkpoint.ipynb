{
 "metadata": {
  "name": "",
  "signature": "sha256:adcc57c5d6f056a1317a1fe3b888d66123eb26feb294ed7de98cfa11a77c0595"
 },
 "nbformat": 3,
 "nbformat_minor": 0,
 "worksheets": [
  {
   "cells": [
    {
     "cell_type": "code",
     "collapsed": false,
     "input": [
      "%pylab inline\n",
      "from mpl_toolkits.mplot3d import Axes3D"
     ],
     "language": "python",
     "metadata": {},
     "outputs": [
      {
       "output_type": "stream",
       "stream": "stdout",
       "text": [
        "Populating the interactive namespace from numpy and matplotlib\n"
       ]
      }
     ],
     "prompt_number": 57
    },
    {
     "cell_type": "code",
     "collapsed": false,
     "input": [
      "M2=1\n",
      "M1=332948.6\n",
      "c=M2/(M1+M2) #Centro de Masa"
     ],
     "language": "python",
     "metadata": {},
     "outputs": [],
     "prompt_number": 40
    },
    {
     "cell_type": "code",
     "collapsed": false,
     "input": [
      "def fun1(x,y):\n",
      "    return (M1+M2)*((c-x)**2+y**2)*((x**2+y**2)*((x-1)**2+y**2))**(1.5)+M1*(x*(c-x)-y**2)+M2*((x-1)*(c-x)-y**2)\n",
      "\n",
      "def fun2(x,y):\n",
      "    return M1*c*y*((x-1)**2+y**2)**(1.5)+M2*(c*y-y)*(x**2+y**2)**(1.5)\n",
      "    \n",
      "def fun1_x(x,y):\n",
      "    return 6*(x-0.5)*(M1+M2)*(x**2-x+y**2)*(((x-1)**2+y**2)*(x**2+y**2))**0.5*(c**2-2*c*x+x**2+y**2)- 2*(M1+M2)*(c-x)*(((x-1)**2+y**2)*(x**2+y**2))**1.5+ M1*(c-2*x)+ M2*(c-2*x+1)\n",
      "    \n",
      "def fun1_y(x,y):\n",
      "    return y*(6*(M1+M2)*(x**2-x+y**2+0.5)*(((x-1)**2+y**2)*(x**2+y**2))**(0.5)*(c**2-2*c*x+x**2+y**2)+ 2*(M1+M2)*(((x-1)**2+y**2)*(x**2+y**2))**1.5- 2*M1-2*M2)\n",
      "\n",
      "def fun2_x(x,y):\n",
      "    return 3*M1*c*y*(x-1)*((x-1)**2+y**2)**(0.5)+3*M2*(c*y-y)*x*(x**2+y**2)**(0.5)\n",
      "    \n",
      "def fun2_y(x,y):\n",
      "    return M1*c*((x-1)**2+y**2)**(1.5)+M2*(c-1)*(x**2+y**2)**(1.5)+3*M1*c*(y**2)*((x-1)**2+y**2)**(1.5)+3*M2*(c*y-y)*y*(x**2+y**2)**(1.5)"
     ],
     "language": "python",
     "metadata": {},
     "outputs": [],
     "prompt_number": 50
    },
    {
     "cell_type": "code",
     "collapsed": false,
     "input": [
      "def newton(x0, y0):\n",
      "    x=x0\n",
      "    y=y0\n",
      "    while ((abs(fun1(x,y))>(1e-9) or abs(fun2(x,y))>(1e-9))):\n",
      "        dx, dy= np.linalg.solve(np.array([[fun1_x(x,y),fun2_x(x,y)],[fun1_y(x,y),fun2_y(x,y)]]),np.array([-fun1(x,y),-fun2(x,y)]))\n",
      "        x+=dx\n",
      "        y+=dy\n",
      "    return x,y"
     ],
     "language": "python",
     "metadata": {},
     "outputs": [],
     "prompt_number": 48
    },
    {
     "cell_type": "code",
     "collapsed": false,
     "input": [
      "newton(0.5, sin(pi/3))"
     ],
     "language": "python",
     "metadata": {},
     "outputs": [
      {
       "output_type": "stream",
       "stream": "stderr",
       "text": [
        "-c:8: RuntimeWarning: overflow encountered in double_scalars\n",
        "-c:8: RuntimeWarning: invalid value encountered in double_scalars\n",
        "-c:11: RuntimeWarning: overflow encountered in double_scalars\n",
        "-c:17: RuntimeWarning: overflow encountered in double_scalars\n",
        "-c:17: RuntimeWarning: invalid value encountered in double_scalars\n"
       ]
      },
      {
       "metadata": {},
       "output_type": "pyout",
       "prompt_number": 65,
       "text": [
        "(nan, nan)"
       ]
      }
     ],
     "prompt_number": 65
    },
    {
     "cell_type": "code",
     "collapsed": false,
     "input": [
      "x=0.5\n",
      "y=sin(pi/3)"
     ],
     "language": "python",
     "metadata": {},
     "outputs": [],
     "prompt_number": 66
    },
    {
     "cell_type": "code",
     "collapsed": false,
     "input": [
      "fun1(x,y)"
     ],
     "language": "python",
     "metadata": {},
     "outputs": [
      {
       "metadata": {},
       "output_type": "pyout",
       "prompt_number": 67,
       "text": [
        "-1.4576151396994419e-10"
       ]
      }
     ],
     "prompt_number": 67
    },
    {
     "cell_type": "code",
     "collapsed": false,
     "input": [],
     "language": "python",
     "metadata": {},
     "outputs": []
    },
    {
     "cell_type": "code",
     "collapsed": false,
     "input": [],
     "language": "python",
     "metadata": {},
     "outputs": []
    },
    {
     "cell_type": "code",
     "collapsed": false,
     "input": [],
     "language": "python",
     "metadata": {},
     "outputs": [],
     "prompt_number": 63
    },
    {
     "cell_type": "code",
     "collapsed": false,
     "input": [],
     "language": "python",
     "metadata": {},
     "outputs": [],
     "prompt_number": 63
    },
    {
     "cell_type": "code",
     "collapsed": false,
     "input": [],
     "language": "python",
     "metadata": {},
     "outputs": [],
     "prompt_number": 63
    },
    {
     "cell_type": "code",
     "collapsed": false,
     "input": [],
     "language": "python",
     "metadata": {},
     "outputs": []
    }
   ],
   "metadata": {}
  }
 ]
}