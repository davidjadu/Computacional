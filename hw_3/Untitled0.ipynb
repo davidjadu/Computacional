{
 "metadata": {
  "name": "",
  "signature": "sha256:ccc3b3fe1968ba61da00955f1f9be599dfb1947a15eea0c0f6949335f4875e73"
 },
 "nbformat": 3,
 "nbformat_minor": 0,
 "worksheets": [
  {
   "cells": [
    {
     "cell_type": "code",
     "collapsed": false,
     "input": [
      "%pylab inline"
     ],
     "language": "python",
     "metadata": {},
     "outputs": [
      {
       "output_type": "stream",
       "stream": "stdout",
       "text": [
        "Populating the interactive namespace from numpy and matplotlib\n"
       ]
      }
     ],
     "prompt_number": 53
    },
    {
     "cell_type": "code",
     "collapsed": false,
     "input": [
      "M2=1\n",
      "M1=332948.6\n",
      "c=M2/(M1+M2) #Centro de Masa\n",
      "print c"
     ],
     "language": "python",
     "metadata": {},
     "outputs": [
      {
       "output_type": "stream",
       "stream": "stdout",
       "text": [
        "3.00345758037e-06\n"
       ]
      }
     ],
     "prompt_number": 54
    },
    {
     "cell_type": "code",
     "collapsed": false,
     "input": [
      "def fun1(x,y):\n",
      "    return M1/(x**2+y**2)*((x*(c-x)-y**2)/(sqrt(x**2+y**2)))+M2/((x-1)**2+y**2)*(((x-1)*(c-x)-y**2)/(sqrt((1-x)**2+y**2)))+(M1+M2)*((x-c)**2+y**2)\n",
      "    \n",
      "def fun1_x(x,y):\n",
      "    return 2*(M1+M2)*(x-c)+ M1*(c-2*x)/(x**2+y**2)**(1.5)-3*M1*x*(x*(c-x)-y**2)/(x**2+y**2)**(2.5) - 3*M2*(x-1)*((x-1)*(c-x)-y**2)/((1-x)**2+y**2)**(2.5) +M2*(c-2*x+1)/((1-x)**2+y**2)**(1.5)\n",
      "    \n",
      "def fun1_y(x,y):\n",
      "    return 2*y*(M1+M2)-2*M1*y/(x**2+y**2)**(1.5)-3*M1*y*(x*(c-x)-y**2)/(x**2+y**2)**(2.5)-2*M2*y/((1-x)**2+y**2)**(1.5)-3*M2*y*((x-1)*(c-x)-y**2)/((1-x)**2+y**2)**(2.5)\n",
      "    \n",
      "def fun2(x,y):\n",
      "    return M1/(x**2+y**2)*((c*y)/(sqrt(x**2+y**2)))+M2/((1-x)**2+y**2)*((c*y-y)/(sqrt((1-x)**2+y**2)))\n",
      "    \n",
      "def fun2_y(x,y):\n",
      "    return -3*M1*c*y**2/(x**2+y**2)**(2.5)+M1*c/(x**2+y**2)**(1.5)-3*M2*y*(c*y-y)/((1-x)**2+y**2)**(2.5) + M2*(c-1)/((1-x)**2+y**2)**(1.5)\n",
      "    \n",
      "def fun2_x(x,y):\n",
      "    return -3*M1*c*x*y/(x**2+y**2)**(2.5)-3*M2*(c-1)*(x-1)*y/(x**2-2*x+y**2+1)**(2.5)"
     ],
     "language": "python",
     "metadata": {},
     "outputs": [],
     "prompt_number": 101
    },
    {
     "cell_type": "code",
     "collapsed": false,
     "input": [
      "def newton(x0, y0):\n",
      "    x=x0\n",
      "    y=y0\n",
      "    while ((abs(fun1(x,y))>(1e-9) or abs(fun2(x,y))>(1e-9))):\n",
      "        dx, dy= np.linalg.solve(np.array([[fun1_x(x,y),fun2_x(x,y)],[fun1_y(x,y),fun2_y(x,y)]]), np.array([-fun1(x,y),-fun2(x,y)]))\n",
      "        x+=dx\n",
      "        y+=dy\n",
      "    return x,y"
     ],
     "language": "python",
     "metadata": {},
     "outputs": [],
     "prompt_number": 113
    },
    {
     "cell_type": "code",
     "collapsed": false,
     "input": [
      "x=0.5\n",
      "y=0.8\n"
     ],
     "language": "python",
     "metadata": {},
     "outputs": [],
     "prompt_number": 139
    },
    {
     "cell_type": "code",
     "collapsed": false,
     "input": [
      "dx, dy= np.linalg.solve(np.array([[fun1_x(x,y),fun2_x(x,y)],[fun1_y(x,y),fun2_y(x,y)]]), np.array([-fun1(x,y),-fun2(x,y)]))\n",
      "x+=dx \n",
      "y+=dy\n",
      "print x,y"
     ],
     "language": "python",
     "metadata": {},
     "outputs": [
      {
       "output_type": "stream",
       "stream": "stdout",
       "text": [
        "0.5 -17622.4343581\n"
       ]
      }
     ],
     "prompt_number": 140
    },
    {
     "cell_type": "code",
     "collapsed": false,
     "input": [
      "dx, dy= np.linalg.solve(np.array([[fun1_x(x,y),fun2_x(x,y)],[fun1_y(x,y),fun2_y(x,y)]]), np.array([-fun1(x,y),-fun2(x,y)]))\n",
      "x+=dx \n",
      "y+=dy\n",
      "print x,y"
     ],
     "language": "python",
     "metadata": {},
     "outputs": [
      {
       "output_type": "stream",
       "stream": "stdout",
       "text": [
        "0.996497231276 0.0\n"
       ]
      }
     ],
     "prompt_number": 126
    },
    {
     "cell_type": "code",
     "collapsed": false,
     "input": [
      "print fun1(x,y), fun2(x,y)"
     ],
     "language": "python",
     "metadata": {},
     "outputs": [
      {
       "output_type": "stream",
       "stream": "stdout",
       "text": [
        "77719.1864936 0.0\n"
       ]
      }
     ],
     "prompt_number": 127
    },
    {
     "cell_type": "code",
     "collapsed": false,
     "input": [
      "dx, dy= np.linalg.solve(np.array([[fun1_x(x,y),fun2_x(x,y)],[fun1_y(x,y),fun2_y(x,y)]]), np.array([-fun1(x,y),-fun2(x,y)]))\n",
      "x+=dx \n",
      "y+=dy\n",
      "print x,y\n",
      "print fun1(x,y), fun2(x,y)"
     ],
     "language": "python",
     "metadata": {},
     "outputs": [
      {
       "output_type": "stream",
       "stream": "stdout",
       "text": [
        "0.990029622732 0.0\n",
        "0.0 0.0\n"
       ]
      }
     ],
     "prompt_number": 134
    },
    {
     "cell_type": "code",
     "collapsed": false,
     "input": [],
     "language": "python",
     "metadata": {},
     "outputs": [],
     "prompt_number": 130
    },
    {
     "cell_type": "code",
     "collapsed": false,
     "input": [],
     "language": "python",
     "metadata": {},
     "outputs": []
    }
   ],
   "metadata": {}
  }
 ]
}