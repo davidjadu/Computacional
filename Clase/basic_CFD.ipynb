{
 "metadata": {
  "name": "",
  "signature": "sha256:05307798b92fe488a502b46ed9a47097983fd5a4fb7b2e26d138b5b92bf50f33"
 },
 "nbformat": 3,
 "nbformat_minor": 0,
 "worksheets": [
  {
   "cells": [
    {
     "cell_type": "heading",
     "level": 1,
     "metadata": {},
     "source": [
      "Basics of Computational Fluid Dynamics"
     ]
    },
    {
     "cell_type": "markdown",
     "metadata": {},
     "source": [
      "We have all the tools to address a physical problem of relevance in all the sciences and engineering: how does a fluid behave?\n",
      "\n",
      "From the perspective we are using in this course we want to know what is the equation that should encode a fluid's behavior. That equation is the Navier-Stokes equation.\n",
      "\n",
      "$$\n",
      "\\frac{\\partial\\vec{V}}{\\partial t}+ (\\vec{V}\\cdot\\nabla)\\vec{V} = -\\frac{1}{\\rho}\\nabla p + \\nu\\nabla^2\\vec{V}\n",
      "$$\n",
      "\n",
      "where $\\vec{V}$ is the velocity field describing the fluid motion, $\\rho$ is the density, $p$ is the pressure and $\\nu$ is a constant known as viscosity.\n",
      "\n",
      "Just to make the discussion a bit more concrete I will write this equation in 1D\n",
      "\n",
      "$$\n",
      "\\frac{\\partial V_x}{\\partial t} + V_x\\frac{\\partial V_x}{\\partial x} = -\\frac{1}{\\rho}\\frac{\\partial p}{\\partial x} + \\nu\\frac{\\partial^2 V_x}{\\partial x^2}\n",
      "$$\n",
      "\n",
      "In this equation $V_x\\frac{\\partial V_x}{\\partial x}$ represents convection and $\\nu\\frac{\\partial^2 V_x}{\\partial x^2}$ represents difussion."
     ]
    },
    {
     "cell_type": "heading",
     "level": 2,
     "metadata": {},
     "source": [
      "The plan"
     ]
    },
    {
     "cell_type": "markdown",
     "metadata": {},
     "source": [
      "The plan to solve this problem is write each derivative as finite differences expressions. This will allows us to discretize\n",
      "time and space (i.e. define $\\Delta t$ and $\\Delta x$) to find how our function $V_x$ evolves in time and space\n",
      "\n",
      "\n",
      "We are going to study the following processes in increasing complexity\n",
      "\n",
      "- Linear convection\n",
      "- Non-linear convection\n",
      "- Difussion\n",
      "- Non-linear convection + difussion (Burgers equation)\n",
      "\n",
      "Please note tat this notebook follows the structure of Prof. Lorena Barba's 12 steps to Navier Stokes:\n",
      "http://nbviewer.ipython.org/github/barbagroup/CFDPython/tree/master/lessons/"
     ]
    },
    {
     "cell_type": "heading",
     "level": 3,
     "metadata": {},
     "source": [
      "Linear convection"
     ]
    },
    {
     "cell_type": "markdown",
     "metadata": {},
     "source": [
      "We want to solve the following equation\n",
      "\n",
      "$$\n",
      "\\frac{\\partial u}{\\partial t} + c\\frac{\\partial u}{\\partial x} = 0\n",
      "$$\n",
      "\n",
      "How do we do it? We discretize the derivatives:\n",
      "\n",
      "$$\n",
      "\\frac{\\partial u}{\\partial x} \\approx \\frac{u_{i}^j -  u_{i-1}^j}{\\Delta x}\n",
      "$$\n",
      "\n",
      "$$\n",
      "\\frac{\\partial u}{\\partial t} \\approx \\frac{u_i^{j+1} -  u_i^j}{\\Delta t}\n",
      "$$"
     ]
    },
    {
     "cell_type": "markdown",
     "metadata": {},
     "source": [
      "So we can rewrite the equation\n",
      "$$\n",
      "\\frac{u_i^{j+1} -  u_i^j}{\\Delta t} = - c \\frac{u_{i}^j -  u_{i-1}^j}{\\Delta x}\n",
      "$$\n",
      "\n",
      "$$\n",
      "u_{i}^{j+1} = u_{i}^{j} - c\\frac{\\Delta t}{\\Delta x}(u_i^j - u_{i-1}^j) \n",
      "$$\n",
      "\n",
      "We now go for the implementation in Python."
     ]
    },
    {
     "cell_type": "code",
     "collapsed": false,
     "input": [
      "%pylab inline"
     ],
     "language": "python",
     "metadata": {},
     "outputs": [
      {
       "output_type": "stream",
       "stream": "stdout",
       "text": [
        "Populating the interactive namespace from numpy and matplotlib\n"
       ]
      }
     ],
     "prompt_number": 1
    },
    {
     "cell_type": "code",
     "collapsed": false,
     "input": [
      "n_x = 80\n",
      "n_t = 300\n",
      "\n",
      "x = linspace(0, 2.0, n_x)\n",
      "u = ones(n_x)\n",
      "\n",
      "dx = x[1]-x[0]\n",
      "dt = 0.001\n",
      "c = 1.0\n",
      "\n",
      "#but now the initial condition is not flat\n",
      "u[where((x<1.25) & (x>0.75))] = 2.0"
     ],
     "language": "python",
     "metadata": {},
     "outputs": [],
     "prompt_number": 14
    },
    {
     "cell_type": "code",
     "collapsed": false,
     "input": [
      "plot(x,u)"
     ],
     "language": "python",
     "metadata": {},
     "outputs": [
      {
       "metadata": {},
       "output_type": "pyout",
       "prompt_number": 15,
       "text": [
        "[<matplotlib.lines.Line2D at 0x1067cf2d0>]"
       ]
      },
      {
       "metadata": {},
       "output_type": "display_data",
       "png": "[encoded data removed]",
       "text": [
        "<matplotlib.figure.Figure at 0x105f13910>"
       ]
      }
     ],
     "prompt_number": 15
    },
    {
     "cell_type": "code",
     "collapsed": false,
     "input": [
      "for n in range(n_t):  # loop over time\n",
      "    u_past = u.copy() \n",
      "    for i in range(1,n_x-1): #loop over space\n",
      "        u[i] = u_past[i] - c*dt/dx*(u_past[i]-u_past[i-1])"
     ],
     "language": "python",
     "metadata": {},
     "outputs": [],
     "prompt_number": 16
    },
    {
     "cell_type": "code",
     "collapsed": false,
     "input": [
      "plot(x,u)"
     ],
     "language": "python",
     "metadata": {},
     "outputs": [
      {
       "metadata": {},
       "output_type": "pyout",
       "prompt_number": 17,
       "text": [
        "[<matplotlib.lines.Line2D at 0x1068d2990>]"
       ]
      },
      {
       "metadata": {},
       "output_type": "display_data",
       "png": "[encoded data removed]",
       "text": [
        "<matplotlib.figure.Figure at 0x106692990>"
       ]
      }
     ],
     "prompt_number": 17
    },
    {
     "cell_type": "heading",
     "level": 2,
     "metadata": {},
     "source": [
      "Non-Linear convection"
     ]
    },
    {
     "cell_type": "markdown",
     "metadata": {},
     "source": [
      "Now the equation is a bit different\n",
      "$$\n",
      "\\frac{\\partial u}{\\partial t} + u\\frac{\\partial u}{\\partial x} = 0\n",
      "$$"
     ]
    },
    {
     "cell_type": "code",
     "collapsed": false,
     "input": [
      "n_x = 80\n",
      "n_t = 300\n",
      "\n",
      "x = linspace(0, 2.0, n_x)\n",
      "u = ones(n_x)\n",
      "\n",
      "dx = x[1]-x[0]\n",
      "dt = 0.001\n",
      "\n",
      "print dx/dt\n",
      "\n",
      "#but now the initial condition is not flat\n",
      "u[where((x<1.25) & (x>0.75))] = 2.0"
     ],
     "language": "python",
     "metadata": {},
     "outputs": [
      {
       "output_type": "stream",
       "stream": "stdout",
       "text": [
        "25.3164556962\n"
       ]
      }
     ],
     "prompt_number": 6
    },
    {
     "cell_type": "code",
     "collapsed": false,
     "input": [
      "plot(x,u)"
     ],
     "language": "python",
     "metadata": {},
     "outputs": [
      {
       "metadata": {},
       "output_type": "pyout",
       "prompt_number": 7,
       "text": [
        "[<matplotlib.lines.Line2D at 0x10a1bc810>]"
       ]
      },
      {
       "metadata": {},
       "output_type": "display_data",
       "png": "[encoded data removed]",
       "text": [
        "<matplotlib.figure.Figure at 0x10a0f5910>"
       ]
      }
     ],
     "prompt_number": 7
    },
    {
     "cell_type": "code",
     "collapsed": false,
     "input": [
      "for n in range(n_t):  # loop over time\n",
      "    u_past = u.copy() \n",
      "    for i in range(1,n_x): #loop over space\n",
      "        u[i] = u_past[i] - u_past[i]*dt/dx*(u_past[i]-u_past[i-1])"
     ],
     "language": "python",
     "metadata": {},
     "outputs": [],
     "prompt_number": 8
    },
    {
     "cell_type": "code",
     "collapsed": false,
     "input": [
      "plot(x,u)"
     ],
     "language": "python",
     "metadata": {},
     "outputs": [
      {
       "metadata": {},
       "output_type": "pyout",
       "prompt_number": 9,
       "text": [
        "[<matplotlib.lines.Line2D at 0x10a255110>]"
       ]
      },
      {
       "metadata": {},
       "output_type": "display_data",
       "png": "[encoded data removed]",
       "text": [
        "<matplotlib.figure.Figure at 0x10a1c4950>"
       ]
      }
     ],
     "prompt_number": 9
    },
    {
     "cell_type": "heading",
     "level": 2,
     "metadata": {},
     "source": [
      "Difusion"
     ]
    },
    {
     "cell_type": "markdown",
     "metadata": {},
     "source": [
      "Now we want to solve the equation\n",
      "$$\n",
      "\\frac{\\partial u}{\\partial t} = \\nu\\frac{\\partial^2 u}{\\partial x^2} \n",
      "$$\n",
      "\n",
      "We already had the discretized version\n",
      "\n",
      "\n",
      "$$\n",
      "\\frac{\\partial u}{\\partial t} \\approx \\frac{u_{i}^{j+1} - u_{i}^{j}}{\\Delta t}\n",
      "$$\n",
      "\n",
      "$$\n",
      "\\frac{\\partial^2 u}{\\partial x^2} \\approx \\frac{u_{i+1}^j - 2 u_{i}^{j} + u_{i-1}^{j}}{(\\Delta x)^2}\n",
      "$$"
     ]
    },
    {
     "cell_type": "markdown",
     "metadata": {},
     "source": [
      "And the finite differences scheme can be found\n",
      "$$\n",
      "\\frac{u_{i}^{j+1} - u_{i}^{j}}{\\Delta t} = \\nu \\frac{u_{i+1}^j - 2 u_{i}^{j} + u_{i-1}^{j}}{(\\Delta x)^2} \n",
      "$$\n",
      "\n",
      "$$\n",
      "u_{i}^{j+1} = \\nu\\alpha u_{i+1}^{j} + (1 - 2\\nu\\alpha)u_{i}^{j} + \\nu\\alpha u_{i-1}^{j}\n",
      "$$\n",
      "\n",
      "where $\\alpha = \\Delta t/ (\\Delta x)^2$."
     ]
    },
    {
     "cell_type": "code",
     "collapsed": false,
     "input": [
      "n_x = 80\n",
      "n_t = 100\n",
      "\n",
      "c = 1.0\n",
      "nu = 0.3\n",
      "sigma = 0.2 #sigma is a parameter to ensure \\alpha\\nu < 0.5\n",
      "\n",
      "x = linspace(0, 2.0, n_x)\n",
      "dx = x[1]-x[0]\n",
      "\n",
      "\n",
      "dt = sigma*dx**2/nu #dt is defined using sigma\n",
      "alpha = dt/dx**2\n",
      "print dt\n",
      "\n",
      "u = ones(n_x)\n",
      "\n",
      "u[where((x<1.25) & (x>0.75))] = 2.0"
     ],
     "language": "python",
     "metadata": {},
     "outputs": [
      {
       "output_type": "stream",
       "stream": "stdout",
       "text": [
        "0.000427281952679\n"
       ]
      }
     ],
     "prompt_number": 22
    },
    {
     "cell_type": "code",
     "collapsed": false,
     "input": [
      "plot(x,u)"
     ],
     "language": "python",
     "metadata": {},
     "outputs": [
      {
       "metadata": {},
       "output_type": "pyout",
       "prompt_number": 23,
       "text": [
        "[<matplotlib.lines.Line2D at 0x106cf7610>]"
       ]
      },
      {
       "metadata": {},
       "output_type": "display_data",
       "png": "[encoded data removed]",
       "text": [
        "<matplotlib.figure.Figure at 0x106787c10>"
       ]
      }
     ],
     "prompt_number": 23
    },
    {
     "cell_type": "code",
     "collapsed": false,
     "input": [
      "for n in range(n_t):  # loop over time\n",
      "    u_past = u.copy() \n",
      "    for i in range(1,n_x-1): #loop over space\n",
      "        u[i] = nu * alpha * u_past[i+1]  + (1.0 - 2.0*nu*alpha)*u_past[i] + nu*alpha*u_past[i-1]"
     ],
     "language": "python",
     "metadata": {},
     "outputs": [],
     "prompt_number": 24
    },
    {
     "cell_type": "code",
     "collapsed": false,
     "input": [
      "plot(x,u)"
     ],
     "language": "python",
     "metadata": {},
     "outputs": [
      {
       "metadata": {},
       "output_type": "pyout",
       "prompt_number": 25,
       "text": [
        "[<matplotlib.lines.Line2D at 0x106df9cd0>]"
       ]
      },
      {
       "metadata": {},
       "output_type": "display_data",
       "png": "[encoded data removed]",
       "text": [
        "<matplotlib.figure.Figure at 0x1064c9550>"
       ]
      }
     ],
     "prompt_number": 25
    },
    {
     "cell_type": "heading",
     "level": 3,
     "metadata": {},
     "source": [
      "Burgers Equation"
     ]
    },
    {
     "cell_type": "markdown",
     "metadata": {},
     "source": [
      "Now we have the Burgers equation:\n",
      "$$\n",
      "\\frac{\\partial u}{\\partial t} + u\\frac{\\partial u}{\\partial x} = \\nu\\frac{\\partial^2 u}{\\partial x^2}\n",
      "$$\n",
      "\n",
      "Which includes the terms of non-linear convection and difussion. Your task is to solve this equation in 1D (using Python!).\n",
      "\n",
      "It might be useful to follow the instruction of Prof. Lorena Barba\n",
      "http://nbviewer.ipython.org/github/barbagroup/CFDPython/blob/master/lessons/05_Step_4.ipynb"
     ]
    },
    {
     "cell_type": "code",
     "collapsed": false,
     "input": [
      "n_x = 100\n",
      "n_t = 700\n",
      "\n",
      "c = 1.0\n",
      "nu = 0.07\n",
      "sigma = 0.02 #sigma is a parameter to ensure \\alpha\\nu < 0.5\n",
      "\n",
      "x = linspace(0, 2.0*pi, n_x)\n",
      "dx = x[1]-x[0]\n",
      "\n",
      "\n",
      "dt = sigma*dx**2/nu #dt is defined using sigma\n",
      "alpha = dx*nu\n",
      "\n",
      "print dt\n",
      "\n",
      "u = sin(x)#+2.0"
     ],
     "language": "python",
     "metadata": {},
     "outputs": [
      {
       "output_type": "stream",
       "stream": "stdout",
       "text": [
        "0.00115085683981\n"
       ]
      }
     ],
     "prompt_number": 34
    },
    {
     "cell_type": "code",
     "collapsed": false,
     "input": [
      "plot(x,u)"
     ],
     "language": "python",
     "metadata": {},
     "outputs": [
      {
       "metadata": {},
       "output_type": "pyout",
       "prompt_number": 35,
       "text": [
        "[<matplotlib.lines.Line2D at 0x10766bc10>]"
       ]
      },
      {
       "metadata": {},
       "output_type": "display_data",
       "png": "[encoded data removed]",
       "text": [
        "<matplotlib.figure.Figure at 0x107574950>"
       ]
      }
     ],
     "prompt_number": 35
    },
    {
     "cell_type": "code",
     "collapsed": false,
     "input": [
      "u_past = zeros(n_x) \n",
      "for n in range(n_t):  # loop over time\n",
      "    u_past = u.copy() \n",
      "    for i in range(0,n_x-1): #loop over space\n",
      "        u[i] = u_past[i] - u_past[i]*dt/dx*(u_past[i]-u_past[i-1]) + nu * alpha * (u_past[i+1] -2.0*u_past[i]+u_past[i-1])\n",
      "    u[-1] = u_past[-1] - u_past[-1]*dt/dx*(u_past[-1]-u_past[-2]) + nu * alpha * (u_past[0] -2.0*u_past[-1]+u_past[-2])"
     ],
     "language": "python",
     "metadata": {},
     "outputs": [],
     "prompt_number": 36
    },
    {
     "cell_type": "code",
     "collapsed": false,
     "input": [
      "plot(x,u)"
     ],
     "language": "python",
     "metadata": {},
     "outputs": [
      {
       "metadata": {},
       "output_type": "pyout",
       "prompt_number": 37,
       "text": [
        "[<matplotlib.lines.Line2D at 0x10777d590>]"
       ]
      },
      {
       "metadata": {},
       "output_type": "display_data",
       "png": "[encoded data removed]",
       "text": [
        "<matplotlib.figure.Figure at 0x106f29c50>"
       ]
      }
     ],
     "prompt_number": 37
    },
    {
     "cell_type": "markdown",
     "metadata": {},
     "source": [
      "#Exercise\n",
      "\n",
      "1. Write a program in C to compute the solution of the 1D Burgers Equation.\n",
      "Make a program in Python to make a movie of the time evolution. Use the same initial conditions as above. \n",
      "\n",
      "2. Write a program in C to compute the solution of the 2D Burguers Equation.\n",
      "Make a program in Python to make a movie of the time evolution. Follow this: http://nbviewer.ipython.org/github/barbagroup/CFDPython/blob/master/lessons/10_Step_8.ipynb"
     ]
    }
   ],
   "metadata": {}
  }
 ]
}