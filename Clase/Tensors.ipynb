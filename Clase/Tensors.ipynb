{
 "metadata": {
  "name": "",
  "signature": "sha256:0d8249094c01a9b25dffc4c3a472981599571c80675ab8a4895dd20fa754d761"
 },
 "nbformat": 3,
 "nbformat_minor": 0,
 "worksheets": [
  {
   "cells": [
    {
     "cell_type": "code",
     "collapsed": false,
     "input": [
      "%pylab inline"
     ],
     "language": "python",
     "metadata": {},
     "outputs": [
      {
       "output_type": "stream",
       "stream": "stdout",
       "text": [
        "Populating the interactive namespace from numpy and matplotlib\n"
       ]
      }
     ],
     "prompt_number": 1
    },
    {
     "cell_type": "heading",
     "level": 1,
     "metadata": {},
     "source": [
      "Tensors"
     ]
    },
    {
     "cell_type": "markdown",
     "metadata": {},
     "source": [
      "Tensors are ubiquitous in the natural sciences. In this section we provide a practical definition for tensors, some examples and ways that this concepts can be implemented in numerical computations.\n",
      "\n",
      "We will define a tensor as the third element in a progression of mathematical entities we are familiar with.\n",
      "\n",
      "1. Scalars. These are quantities represented by a single number. They are independent of a coordinate system. Some examples are: density, mass, temperature. \n",
      "\n",
      "2. Vectors. These are quantities represented by a series of values defined in a coordinate system. The magnitude of the numbers associated with the vector can be change in different coordinate systems, but its direction and magnitude are the same. Some examples are: velocitiy, force, gradient of a scalar field.\n",
      "\n",
      "3. (Second order) Tensors. These are quantities that can be represented by matrices. It represents physical entities independent of the coordinate system. Examples: moment of inertia, strain, tidal field."
     ]
    },
    {
     "cell_type": "markdown",
     "metadata": {},
     "source": [
      "Tensors can be used to relate two vectors\n",
      "$$\n",
      "{\\bf u}  = {\\bf T}{\\bf v}\n",
      "$$\n",
      "or in subindex notation\n",
      "$$\n",
      "u_i = T_{ij} v_j\n",
      "$$\n",
      "for instance:"
     ]
    },
    {
     "cell_type": "code",
     "collapsed": false,
     "input": [
      "T=ones((3,3))\n",
      "T[0,0]=5.0\n",
      "T[1,1]=3.0\n",
      "T[2,2]=2.0\n",
      "T[0,1]=4.0; T[1,0]=T[0,1]\n",
      "T[0,2]=-1.0; T[2,0]=T[0,2]\n",
      "T[1,2]=-2.0; T[2,1]=T[1,2]\n",
      "print T\n",
      "\n",
      "v = random.random(3)\n",
      "u = ones(3)\n",
      "\n",
      "for i in range(3):\n",
      "    u[i] = 0\n",
      "    for j in range(3):\n",
      "        u[i] = u[i] + T[i,j]*v[j]\n",
      "print \"v\", v\n",
      "print \"u\", u"
     ],
     "language": "python",
     "metadata": {},
     "outputs": [
      {
       "output_type": "stream",
       "stream": "stdout",
       "text": [
        "[[ 5.  4. -1.]\n",
        " [ 4.  3. -2.]\n",
        " [-1. -2.  2.]]\n",
        "v [ 0.56673788  0.39633541  0.30676994]\n",
        "u [ 4.11226111  2.84241788 -0.74586883]\n"
       ]
      }
     ],
     "prompt_number": 8
    },
    {
     "cell_type": "markdown",
     "metadata": {},
     "source": [
      "Tensors can also be built from two vectors:\n",
      "$$\n",
      "{\\bf T}= {\\bf u}\\otimes{\\bf v}\n",
      "$$\n",
      "or in subindex notation\n",
      "$$\n",
      "T_{ij} = u_i v_j\n",
      "$$\n",
      "\n",
      "for instance:"
     ]
    },
    {
     "cell_type": "code",
     "collapsed": false,
     "input": [
      "v = array([1, 2, 1.5])\n",
      "u = array([-2, 1, 0.5])\n",
      "print \"v\", v\n",
      "print \"u\", u\n",
      "T = ones((3,3))\n",
      "for i in range(3):\n",
      "    for j in range(3):\n",
      "        T[i,j] = u[i] * v[j]\n",
      "print \"T\", T"
     ],
     "language": "python",
     "metadata": {},
     "outputs": [
      {
       "output_type": "stream",
       "stream": "stdout",
       "text": [
        "v [ 1.   2.   1.5]\n",
        "u [-2.   1.   0.5]\n",
        "T [[-2.   -4.   -3.  ]\n",
        " [ 1.    2.    1.5 ]\n",
        " [ 0.5   1.    0.75]]\n"
       ]
      }
     ],
     "prompt_number": 3
    },
    {
     "cell_type": "markdown",
     "metadata": {},
     "source": [
      "If we have a matrix ${\\bf a}$ representing a change of coordinates, the new components of the tensor in terms of the old components can be written as:\n",
      "\n",
      "$$\n",
      "T^{\\prime}_{ij}=a_{ik}a_{jl}T_{kl}\n",
      "$$\n",
      "\n",
      "or in matrix notation\n",
      "\n",
      "$$\n",
      "{\\bf T}^{\\prime} = {\\bf a}^T{\\bf T}{\\bf a}\n",
      "$$\n",
      "\n",
      "We can also go from the new components to the new\n",
      "\n",
      "\n",
      "$$\n",
      "T_{ij}=a_{ki}a_{lj}T^{\\prime}_{kl}\n",
      "$$\n",
      "\n",
      "or in matrix notation\n",
      "\n",
      "$$\n",
      "{\\bf T} = {\\bf a}{\\bf T}^{\\prime}{\\bf a}^{T}\n",
      "$$\n",
      "\n",
      "Let's verify the forward transformation law with a numerical example"
     ]
    },
    {
     "cell_type": "code",
     "collapsed": false,
     "input": [
      "# a is matrix that represents a rotation around the z-axis by an angle theta\n",
      "theta = pi/4.0\n",
      "a = matrix([[cos(theta),-sin(theta), 0],[sin(theta), cos(theta),0],[0,0,1]])\n",
      "print a"
     ],
     "language": "python",
     "metadata": {},
     "outputs": [
      {
       "output_type": "stream",
       "stream": "stdout",
       "text": [
        "[[ 0.70710678 -0.70710678  0.        ]\n",
        " [ 0.70710678  0.70710678  0.        ]\n",
        " [ 0.          0.          1.        ]]\n"
       ]
      }
     ],
     "prompt_number": 6
    },
    {
     "cell_type": "code",
     "collapsed": false,
     "input": [
      "#we find the new tensor using the definition of the transformation\n",
      "T_prime = zeros((3,3))\n",
      "for i in range(3):\n",
      "    for j in range(3):\n",
      "        for k in range(3):\n",
      "            for l in range(3):\n",
      "                T_prime[i,j] =  T_prime[i,j] + (a[i,k] * a[j,l] * T[k,l])\n",
      "print \"T_Prime\"\n",
      "print T_prime"
     ],
     "language": "python",
     "metadata": {},
     "outputs": [
      {
       "output_type": "stream",
       "stream": "stdout",
       "text": [
        "T_Prime\n",
        "[[ 1.5        -4.5        -3.18198052]\n",
        " [ 0.5        -1.5        -1.06066017]\n",
        " [-0.35355339  1.06066017  0.75      ]]\n"
       ]
      }
     ],
     "prompt_number": 7
    },
    {
     "cell_type": "code",
     "collapsed": false,
     "input": [
      "# we now find the new tensor by transforming first the vectors\n",
      "u_prime = zeros(3)\n",
      "v_prime = zeros(3)\n",
      "for i in range(3):\n",
      "    for j in range(3):\n",
      "        u_prime[i] = u_prime[i] + a[i,j]*u[j]\n",
      "        v_prime[i] = v_prime[i] + a[i,j]*v[j]\n",
      "print \"u_prime\", u_prime\n",
      "print \"v_prime\", v_prime"
     ],
     "language": "python",
     "metadata": {},
     "outputs": [
      {
       "output_type": "stream",
       "stream": "stdout",
       "text": [
        "u_prime [-2.12132034 -0.70710678  0.5       ]\n",
        "v_prime [-0.70710678  2.12132034  1.5       ]\n"
       ]
      }
     ],
     "prompt_number": 8
    },
    {
     "cell_type": "code",
     "collapsed": false,
     "input": [
      "#and now compute the new tensor, to compare it against the first one\n",
      "T_prime = ones((3,3))\n",
      "for i in range(3):\n",
      "    for j in range(3):\n",
      "        T_prime[i,j] = u_prime[i] * v_prime[j]\n",
      "print \"T_prime\"\n",
      "print T_prime"
     ],
     "language": "python",
     "metadata": {},
     "outputs": [
      {
       "output_type": "stream",
       "stream": "stdout",
       "text": [
        "T_prime\n",
        "[[ 1.5        -4.5        -3.18198052]\n",
        " [ 0.5        -1.5        -1.06066017]\n",
        " [-0.35355339  1.06066017  0.75      ]]\n"
       ]
      }
     ],
     "prompt_number": 9
    },
    {
     "cell_type": "heading",
     "level": 2,
     "metadata": {},
     "source": [
      "Principal axis of a tensor."
     ]
    },
    {
     "cell_type": "markdown",
     "metadata": {},
     "source": [
      "Tensors can be symmetric, meaning that $T_{ij}=T_{ji}$.  The most important property of this kind of tensor is that we can always find a new coordinate system where all the components of $T^{\\prime}_{ij}$are zero except those on the diagonal. How do we find these components? How do we find the new coordinate system?\n",
      "\n",
      "We find these components by finding the eigenvalues and eigenvectors of the tensor.\n",
      "\n",
      "Let's do it numerically first."
     ]
    },
    {
     "cell_type": "code",
     "collapsed": false,
     "input": [
      "# we define again a symmetric tensor.\n",
      "T=ones((3,3))\n",
      "T[0,0]=-4.0\n",
      "T[1,1]=3.0\n",
      "T[2,2]=2.0\n",
      "T[0,1]=4.0; T[1,0]=T[0,1]\n",
      "T[0,2]=-1.0; T[2,0]=T[0,2]\n",
      "T[1,2]=-2.0;T[2,1]=T[1,2]\n",
      "print T"
     ],
     "language": "python",
     "metadata": {},
     "outputs": [
      {
       "output_type": "stream",
       "stream": "stdout",
       "text": [
        "[[-4.  4. -1.]\n",
        " [ 4.  3. -2.]\n",
        " [-1. -2.  2.]]\n"
       ]
      }
     ],
     "prompt_number": 9
    },
    {
     "cell_type": "code",
     "collapsed": false,
     "input": [
      "eigenvalues, eigenvectors = eig(T)\n",
      "for i in range(3):\n",
      "    print \"eigenvalue %d\"%i, eigenvalues[i]\n",
      "    print \"eigenvector %d\"%i, eigenvectors[:,i]\n",
      "    print \"\\n\""
     ],
     "language": "python",
     "metadata": {},
     "outputs": [
      {
       "output_type": "stream",
       "stream": "stdout",
       "text": [
        "eigenvalue 0 -5.81603796561\n",
        "eigenvector 0 [-0.91156584  0.41099437 -0.01146068]\n",
        "\n",
        "\n",
        "eigenvalue 1 6.04852230682\n",
        "eigenvector 1 [ 0.36488095  0.79581253 -0.48326423]\n",
        "\n",
        "\n",
        "eigenvalue 2 0.767515658791\n",
        "eigenvector 2 [ 0.18949833  0.44470894  0.87539953]\n",
        "\n",
        "\n"
       ]
      }
     ],
     "prompt_number": 10
    },
    {
     "cell_type": "markdown",
     "metadata": {},
     "source": [
      "What is the meaning of all this?\n",
      "\n",
      "Remember that the definition of the eigenvalues $\\lambda_i$ and the eigenvectors ${\\bf e}_i$ is the following\n",
      "$$\n",
      "{\\bf T}{\\bf e}_i = \\lambda_{i}{\\bf e}_i\n",
      "$$\n",
      "where the ${\\bf e}_i$ are a set of orthogonal vectors.\n",
      "\n",
      "Does that hold?"
     ]
    },
    {
     "cell_type": "code",
     "collapsed": false,
     "input": [
      "for eigen in range(3):\n",
      "    new_eigenvector = zeros(3)\n",
      "    for i in range(3):\n",
      "        for j in range(3):\n",
      "            new_eigenvector[i] = new_eigenvector[i] + T[i,j]*eigenvectors[j,eigen]\n",
      "\n",
      "    print \"new_eigenvector\", new_eigenvector\n",
      "    print \"eigenvalues * original eigenvector\", eigenvalues[eigen] * eigenvectors[:,eigen]\n",
      "    print \"\\n\""
     ],
     "language": "python",
     "metadata": {},
     "outputs": [
      {
       "output_type": "stream",
       "stream": "stdout",
       "text": [
        "new_eigenvector [ 5.30170153 -2.39035888  0.06665574]\n",
        "eigenvalues * original eigenvector [ 5.30170153 -2.39035888  0.06665574]\n",
        "\n",
        "\n",
        "new_eigenvector [ 2.20699055  4.81348983 -2.92303446]\n",
        "eigenvalues * original eigenvector [ 2.20699055  4.81348983 -2.92303446]\n",
        "\n",
        "\n",
        "new_eigenvector [ 0.14544293  0.34132108  0.67188285]\n",
        "eigenvalues * original eigenvector [ 0.14544293  0.34132108  0.67188285]\n",
        "\n",
        "\n"
       ]
      }
     ],
     "prompt_number": 14
    },
    {
     "cell_type": "markdown",
     "metadata": {},
     "source": [
      "Exercise \n",
      "\n",
      "1. Check that the eigenvectors are orthogonal to each other.\n",
      "2. Find the change of coordinates ${\\bf a}$ that gives a new tensor ${\\bf T}^{\\prime}$ with only diagonal components."
     ]
    }
   ],
   "metadata": {}
  }
 ]
}