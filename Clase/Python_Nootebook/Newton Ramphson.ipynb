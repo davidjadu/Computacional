{
 "metadata": {
  "name": "",
  "signature": "sha256:2751748f0c19ba6aeb9bcf063c8bf8ea521531df30594745d31c6c0913eaf7e8"
 },
 "nbformat": 3,
 "nbformat_minor": 0,
 "worksheets": [
  {
   "cells": [
    {
     "cell_type": "code",
     "collapsed": false,
     "input": [
      "%pylab inline"
     ],
     "language": "python",
     "metadata": {},
     "outputs": [
      {
       "output_type": "stream",
       "stream": "stdout",
       "text": [
        "Populating the interactive namespace from numpy and matplotlib\n"
       ]
      }
     ],
     "prompt_number": 1
    },
    {
     "cell_type": "code",
     "collapsed": false,
     "input": [
      "def function(E):\n",
      "    return sqrt(10.0-E)*(tan(sqrt(10.0-E)))-sqrt(E)\n",
      "def function_prime(E):\n",
      "    return 0.5*(-1/sqrt(E)-tan(sqrt(10-E))/sqrt(10-E)-1/cos(10-E)**2)"
     ],
     "language": "python",
     "metadata": {},
     "outputs": [],
     "prompt_number": 31
    },
    {
     "cell_type": "code",
     "collapsed": false,
     "input": [
      "iterations = 100000\n",
      "def newton(E):\n",
      "    E.append(9.0)\n",
      "    E_actual = 9.0\n",
      "    delta = 0.0\n",
      "    for n in range(iterations):\n",
      "        if(function(E_actual)==0):\n",
      "            break\n",
      "        else:\n",
      "            delta = -function(E_actual) / function_prime(E_actual)\n",
      "            E_actual += delta\n",
      "            E.append(E_actual)\n",
      "    return E_actual"
     ],
     "language": "python",
     "metadata": {},
     "outputs": [],
     "prompt_number": 38
    },
    {
     "cell_type": "code",
     "collapsed": false,
     "input": [
      "E=[]\n",
      "newton(E)\n",
      "plot(E)"
     ],
     "language": "python",
     "metadata": {},
     "outputs": [
      {
       "metadata": {},
       "output_type": "pyout",
       "prompt_number": 40,
       "text": [
        "[<matplotlib.lines.Line2D at 0x102154110>]"
       ]
      },
      {
       "metadata": {},
       "output_type": "display_data",
       "png": "[encoded data removed]",
       "text": [
        "<matplotlib.figure.Figure at 0x1049108d0>"
       ]
      }
     ],
     "prompt_number": 40
    },
    {
     "cell_type": "code",
     "collapsed": false,
     "input": [],
     "language": "python",
     "metadata": {},
     "outputs": []
    }
   ],
   "metadata": {}
  }
 ]
}