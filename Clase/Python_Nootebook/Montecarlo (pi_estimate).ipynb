{
 "metadata": {
  "name": "",
  "signature": "sha256:06ec30b5fa8083c0a61156988bc043036ac6c073476b74eebae9992022b431d5"
 },
 "nbformat": 3,
 "nbformat_minor": 0,
 "worksheets": [
  {
   "cells": [
    {
     "cell_type": "code",
     "collapsed": false,
     "input": [
      "%pylab inline"
     ],
     "language": "python",
     "metadata": {},
     "outputs": [
      {
       "output_type": "stream",
       "stream": "stdout",
       "text": [
        "Populating the interactive namespace from numpy and matplotlib\n"
       ]
      }
     ],
     "prompt_number": 1
    },
    {
     "cell_type": "markdown",
     "metadata": {},
     "source": [
      "#Montecarlo to estiamte $\\pi$"
     ]
    },
    {
     "cell_type": "code",
     "collapsed": false,
     "input": [
      "m=1000\n",
      "\n",
      "def get_steps():\n",
      "    estimation = 0\n",
      "    steps=0\n",
      "    inside = 0\n",
      "    while (abs(estimation-pi)>0.005):\n",
      "        steps += 1\n",
      "        x=2*random.random()-1\n",
      "        y=2*random.random()-1\n",
      "        if (x**2 + y**2<1):\n",
      "            inside += 1\n",
      "        estimation = 4.0*(inside+0.0)/(steps)\n",
      "    return steps\n",
      "\n",
      "suma =0\n",
      "est_dev_squared =0\n",
      "for i in range(m):\n",
      "    suma += get_steps()\n",
      "print \"Promedio: \", suma/(m+0.0)"
     ],
     "language": "python",
     "metadata": {},
     "outputs": [
      {
       "output_type": "stream",
       "stream": "stdout",
       "text": [
        "Promedio:  1625.126\n"
       ]
      }
     ],
     "prompt_number": 32
    }
   ],
   "metadata": {}
  }
 ]
}